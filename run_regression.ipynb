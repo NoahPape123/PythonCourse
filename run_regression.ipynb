{
 "cells": [
  {
   "cell_type": "code",
   "execution_count": 1,
   "metadata": {},
   "outputs": [
    {
     "name": "stdout",
     "output_type": "stream",
     "text": [
      "Warning: Your Kaggle API key is readable by other users on this system! To fix this, you can run 'chmod 600 /Users/noahpape/.kaggle/kaggle.json'\n"
     ]
    }
   ],
   "source": [
    "import pandas as pd, numpy as np, kaggle\n",
    "from assignment_ols import our_ols"
   ]
  },
  {
   "cell_type": "markdown",
   "metadata": {},
   "source": [
    "## Download data and save as CSV"
   ]
  },
  {
   "cell_type": "code",
   "execution_count": 2,
   "metadata": {},
   "outputs": [
    {
     "name": "stdout",
     "output_type": "stream",
     "text": [
      "Warning: Your Kaggle API key is readable by other users on this system! To fix this, you can run 'chmod 600 /Users/noahpape/.kaggle/kaggle.json'\n",
      "Downloading boston-housing-dataset.zip to /Users/noahpape/Fulbright Documents/Koc University/INTL 550 Coding/Assignment 2\n",
      "  0%|                                               | 0.00/11.7k [00:00<?, ?B/s]\n",
      "100%|██████████████████████████████████████| 11.7k/11.7k [00:00<00:00, 5.30MB/s]\n"
     ]
    }
   ],
   "source": [
    "!kaggle datasets download altavish/boston-housing-dataset"
   ]
  },
  {
   "cell_type": "code",
   "execution_count": 3,
   "metadata": {},
   "outputs": [],
   "source": [
    "import zipfile\n",
    "zip = zipfile.ZipFile('boston-housing-dataset.zip')\n",
    "zip.extractall()"
   ]
  },
  {
   "cell_type": "markdown",
   "metadata": {},
   "source": [
    "## Import Data and run regression analysis"
   ]
  },
  {
   "cell_type": "code",
   "execution_count": 4,
   "metadata": {},
   "outputs": [
    {
     "name": "stdout",
     "output_type": "stream",
     "text": [
      "          coef   std err    [0.025    0.975]\n",
      "RM    6.073439  0.228404  5.625767  6.521112\n",
      "DIS  -1.098095  0.188232 -1.467030 -0.729159\n",
      "AGE  -0.170218  0.012365 -0.194453 -0.145984\n",
      "CHAS  5.449137  1.142720  3.209406  7.688868\n"
     ]
    }
   ],
   "source": [
    "data = pd.read_csv('HousingData.csv')\n",
    "data = data[['RM', 'DIS', 'AGE', 'CHAS', 'MEDV']]\n",
    "our_ols(data, 'MEDV')"
   ]
  },
  {
   "cell_type": "markdown",
   "metadata": {},
   "source": [
    "## Compare with other module"
   ]
  },
  {
   "cell_type": "code",
   "execution_count": 5,
   "metadata": {},
   "outputs": [
    {
     "data": {
      "text/html": [
       "<table class=\"simpletable\">\n",
       "<caption>OLS Regression Results</caption>\n",
       "<tr>\n",
       "  <th>Dep. Variable:</th>          <td>MEDV</td>       <th>  R-squared (uncentered):</th>      <td>   0.936</td> \n",
       "</tr>\n",
       "<tr>\n",
       "  <th>Model:</th>                   <td>OLS</td>       <th>  Adj. R-squared (uncentered):</th> <td>   0.936</td> \n",
       "</tr>\n",
       "<tr>\n",
       "  <th>Method:</th>             <td>Least Squares</td>  <th>  F-statistic:       </th>          <td>   1699.</td> \n",
       "</tr>\n",
       "<tr>\n",
       "  <th>Date:</th>             <td>Sun, 25 Apr 2021</td> <th>  Prob (F-statistic):</th>          <td>1.07e-274</td>\n",
       "</tr>\n",
       "<tr>\n",
       "  <th>Time:</th>                 <td>20:07:22</td>     <th>  Log-Likelihood:    </th>          <td> -1508.1</td> \n",
       "</tr>\n",
       "<tr>\n",
       "  <th>No. Observations:</th>      <td>   466</td>      <th>  AIC:               </th>          <td>   3024.</td> \n",
       "</tr>\n",
       "<tr>\n",
       "  <th>Df Residuals:</th>          <td>   462</td>      <th>  BIC:               </th>          <td>   3041.</td> \n",
       "</tr>\n",
       "<tr>\n",
       "  <th>Df Model:</th>              <td>     4</td>      <th>                     </th>              <td> </td>    \n",
       "</tr>\n",
       "<tr>\n",
       "  <th>Covariance Type:</th>      <td>nonrobust</td>    <th>                     </th>              <td> </td>    \n",
       "</tr>\n",
       "</table>\n",
       "<table class=\"simpletable\">\n",
       "<tr>\n",
       "    <td></td>      <th>coef</th>     <th>std err</th>      <th>t</th>      <th>P>|t|</th>  <th>[0.025</th>    <th>0.975]</th>  \n",
       "</tr>\n",
       "<tr>\n",
       "  <th>RM</th>   <td>    6.0734</td> <td>    0.228</td> <td>   26.620</td> <td> 0.000</td> <td>    5.625</td> <td>    6.522</td>\n",
       "</tr>\n",
       "<tr>\n",
       "  <th>DIS</th>  <td>   -1.0981</td> <td>    0.188</td> <td>   -5.840</td> <td> 0.000</td> <td>   -1.468</td> <td>   -0.729</td>\n",
       "</tr>\n",
       "<tr>\n",
       "  <th>AGE</th>  <td>   -0.1702</td> <td>    0.012</td> <td>  -13.782</td> <td> 0.000</td> <td>   -0.194</td> <td>   -0.146</td>\n",
       "</tr>\n",
       "<tr>\n",
       "  <th>CHAS</th> <td>    5.4491</td> <td>    1.141</td> <td>    4.774</td> <td> 0.000</td> <td>    3.206</td> <td>    7.692</td>\n",
       "</tr>\n",
       "</table>\n",
       "<table class=\"simpletable\">\n",
       "<tr>\n",
       "  <th>Omnibus:</th>       <td>95.923</td> <th>  Durbin-Watson:     </th> <td>   0.801</td>\n",
       "</tr>\n",
       "<tr>\n",
       "  <th>Prob(Omnibus):</th> <td> 0.000</td> <th>  Jarque-Bera (JB):  </th> <td> 270.810</td>\n",
       "</tr>\n",
       "<tr>\n",
       "  <th>Skew:</th>          <td> 0.980</td> <th>  Prob(JB):          </th> <td>1.56e-59</td>\n",
       "</tr>\n",
       "<tr>\n",
       "  <th>Kurtosis:</th>      <td> 6.178</td> <th>  Cond. No.          </th> <td>    296.</td>\n",
       "</tr>\n",
       "</table><br/><br/>Warnings:<br/>[1] Standard Errors assume that the covariance matrix of the errors is correctly specified."
      ],
      "text/plain": [
       "<class 'statsmodels.iolib.summary.Summary'>\n",
       "\"\"\"\n",
       "                                 OLS Regression Results                                \n",
       "=======================================================================================\n",
       "Dep. Variable:                   MEDV   R-squared (uncentered):                   0.936\n",
       "Model:                            OLS   Adj. R-squared (uncentered):              0.936\n",
       "Method:                 Least Squares   F-statistic:                              1699.\n",
       "Date:                Sun, 25 Apr 2021   Prob (F-statistic):                   1.07e-274\n",
       "Time:                        20:07:22   Log-Likelihood:                         -1508.1\n",
       "No. Observations:                 466   AIC:                                      3024.\n",
       "Df Residuals:                     462   BIC:                                      3041.\n",
       "Df Model:                           4                                                  \n",
       "Covariance Type:            nonrobust                                                  \n",
       "==============================================================================\n",
       "                 coef    std err          t      P>|t|      [0.025      0.975]\n",
       "------------------------------------------------------------------------------\n",
       "RM             6.0734      0.228     26.620      0.000       5.625       6.522\n",
       "DIS           -1.0981      0.188     -5.840      0.000      -1.468      -0.729\n",
       "AGE           -0.1702      0.012    -13.782      0.000      -0.194      -0.146\n",
       "CHAS           5.4491      1.141      4.774      0.000       3.206       7.692\n",
       "==============================================================================\n",
       "Omnibus:                       95.923   Durbin-Watson:                   0.801\n",
       "Prob(Omnibus):                  0.000   Jarque-Bera (JB):              270.810\n",
       "Skew:                           0.980   Prob(JB):                     1.56e-59\n",
       "Kurtosis:                       6.178   Cond. No.                         296.\n",
       "==============================================================================\n",
       "\n",
       "Warnings:\n",
       "[1] Standard Errors assume that the covariance matrix of the errors is correctly specified.\n",
       "\"\"\""
      ]
     },
     "execution_count": 5,
     "metadata": {},
     "output_type": "execute_result"
    }
   ],
   "source": [
    "import statsmodels.api as sm\n",
    "ols = sm.OLS(data['MEDV'], data.drop('MEDV', axis=1))\n",
    "ols_result = ols.fit()\n",
    "ols_result.summary()"
   ]
  },
  {
   "cell_type": "markdown",
   "metadata": {},
   "source": [
    "The only difference with the OLS module that can be observed is a slight difference in the std err of the variable CHAS which is a dummy variable for whether or not the neighborhood is on the Charles River or not (1 if it is, 0 otherwise). My speculation is that the difference might be due to the fact that the statsmodels OLS regressor does not use a robust method of calculating the covariance matrix by default."
   ]
  }
 ],
 "metadata": {
  "kernelspec": {
   "display_name": "Python 3",
   "language": "python",
   "name": "python3"
  },
  "language_info": {
   "codemirror_mode": {
    "name": "ipython",
    "version": 3
   },
   "file_extension": ".py",
   "mimetype": "text/x-python",
   "name": "python",
   "nbconvert_exporter": "python",
   "pygments_lexer": "ipython3",
   "version": "3.7.7"
  }
 },
 "nbformat": 4,
 "nbformat_minor": 4
}
