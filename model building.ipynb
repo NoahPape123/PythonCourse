{
 "cells": [
  {
   "cell_type": "code",
   "execution_count": 1,
   "metadata": {},
   "outputs": [],
   "source": [
    "import pandas as pd, numpy as np"
   ]
  },
  {
   "cell_type": "code",
   "execution_count": 2,
   "metadata": {},
   "outputs": [],
   "source": [
    "data = pd.read_csv('cses_cut.csv').iloc[: , 1:]"
   ]
  },
  {
   "cell_type": "code",
   "execution_count": 3,
   "metadata": {},
   "outputs": [],
   "source": [
    "\"\"\"This is a dictionary of the CSES variables. The first index tells if the variable is ordered\n",
    "and the second is the code(s) for mising values.\"\"\"\n",
    "variable_guide = {\n",
    "    'D2002':(False, [9]),\n",
    "    'D2003':(True, [97,98,99]),\n",
    "    'D2004':(False, [9]),\n",
    "    'D2005':(False, [9]),\n",
    "    'D2006':(False, [9]),\n",
    "    'D2007':(False, [9]),\n",
    "    'D2008':(False, [9]),\n",
    "    'D2009':(False, [9]),\n",
    "    'D2010':(False, [99]),\n",
    "    'D2011':(False, [999]),\n",
    "    'D2012':(False, [9]),\n",
    "    'D2013':(False, [9]),\n",
    "    'D2014':(False, [9]),\n",
    "    'D2015':(False, [99]),\n",
    "    'D2016':(False, [999]),\n",
    "    'D2017':(False, [9]),\n",
    "    'D2018':(False, [9]),\n",
    "    'D2019':(False, [9]),\n",
    "    'D2020':(True, [7,8,9]),\n",
    "    'D2021':(True, [97,98,99]),\n",
    "    'D2022':(True, [97,98,99]),\n",
    "    'D2023':(True, [97,98,99]),\n",
    "    'D2024':(True, [7,8,9]),\n",
    "    'D2025':(True, [7,8,9]),\n",
    "    'D2026':(False, [99]),\n",
    "    'D2027':(False, [999]),\n",
    "    'D2028':(False, [99]),\n",
    "    'D2029':(False, [999]),\n",
    "    'D2030':(False, [999]),\n",
    "    'D2031':(True, [7,8,9])\n",
    "}"
   ]
  },
  {
   "cell_type": "code",
   "execution_count": 4,
   "metadata": {},
   "outputs": [],
   "source": [
    "start_rows = data.shape[0]"
   ]
  },
  {
   "cell_type": "code",
   "execution_count": 5,
   "metadata": {},
   "outputs": [],
   "source": [
    "\"\"\"Here we replace missing values with NaN.\"\"\"\n",
    "for key in variable_guide.keys():\n",
    "    to_replace={}\n",
    "    for item in variable_guide[key][1]:\n",
    "        to_replace[item] = np.nan\n",
    "    if key == 'D2002':\n",
    "        to_replace[96]=0\n",
    "    data[key].replace(to_replace,inplace=True)"
   ]
  },
  {
   "cell_type": "code",
   "execution_count": 6,
   "metadata": {},
   "outputs": [
    {
     "name": "stdout",
     "output_type": "stream",
     "text": [
      "Dropped 3191 rows!\n",
      "['D2002', 'D2004', 'D2005', 'D2010', 'D2026', 'D2028']\n"
     ]
    }
   ],
   "source": [
    "\"\"\"Here we drop any columns where the percent of null values is greater than 10%.\n",
    "We then perform listwise-deletion on the rows to elimate any row with a missing value.\n",
    "Finally, we get dummy variables and replace the voted column with 0 or 1.\"\"\"\n",
    "cols_to_drop = list(data.columns[data.isnull().mean() * 100 > 10])\n",
    "data.drop(cols_to_drop, axis=1, inplace=True)\n",
    "data.dropna(how='any',inplace=True)\n",
    "print('Dropped', start_rows-data.shape[0], 'rows!')\n",
    "to_dummy = [x for x in data.columns if x in variable_guide.keys() and variable_guide[x][0]==False]\n",
    "print(to_dummy)\n",
    "data[to_dummy] = data[to_dummy].astype(str)\n",
    "data=pd.get_dummies(data, prefix=to_dummy)\n",
    "data['voted'] = data['voted'].astype(int)"
   ]
  },
  {
   "cell_type": "code",
   "execution_count": 7,
   "metadata": {},
   "outputs": [],
   "source": [
    "y = data['voted']\n",
    "X = data.drop('voted', axis=1)"
   ]
  },
  {
   "cell_type": "code",
   "execution_count": 8,
   "metadata": {},
   "outputs": [],
   "source": [
    "from sklearn.pipeline import Pipeline\n",
    "from sklearn.datasets import make_classification\n",
    "from sklearn.preprocessing import StandardScaler, MinMaxScaler\n",
    "from sklearn.model_selection import GridSearchCV\n",
    "from sklearn.neighbors import KNeighborsClassifier\n",
    "from sklearn.linear_model import LogisticRegression\n",
    "from sklearn.ensemble import RandomForestClassifier\n",
    "from sklearn.feature_selection import SelectKBest, mutual_info_classif, chi2\n",
    "from imblearn.over_sampling import RandomOverSampler\n",
    "from imblearn.under_sampling import RandomUnderSampler\n",
    "from imblearn.pipeline import make_pipeline\n",
    "from itertools import product\n",
    "from tqdm.notebook import tqdm"
   ]
  },
  {
   "cell_type": "code",
   "execution_count": 13,
   "metadata": {},
   "outputs": [],
   "source": [
    "def customGridSearchCV(X, y, k_, rat_, search_space):\n",
    "    best_cv = None\n",
    "    best_score_seen = 0\n",
    "    g = product(k_, rat_)\n",
    "    p = list(product(rat_, k_))\n",
    "    # Get the possible combinations of parameters for the sampler and feature selector and iterate over them\n",
    "    for i in tqdm(range(len(p))):\n",
    "        params = p[i]\n",
    "        ros = RandomOverSampler(sampling_strategy=params[0], random_state=1)\n",
    "        X_, y_ = ros.fit_resample(X, y)\n",
    "        \n",
    "        scaler = StandardScaler()\n",
    "        X_ = scaler.fit_transform(X_)\n",
    "        \n",
    "        selector = SelectKBest(mutual_info_classif, k=10)\n",
    "        X_ = selector.fit_transform(X_, y_)\n",
    "        \n",
    "        pipe = Pipeline([('classifier',RandomForestClassifier(n_estimators=100))])\n",
    "        \n",
    "        clf = GridSearchCV(pipe, search_space, cv=10, verbose=0, n_jobs=-1, scoring='f1')\n",
    "        # Perform a grid search and update our best models if needed.\n",
    "        clf = clf.fit(X_, y_)\n",
    "        if clf.best_score_ > best_score_seen:\n",
    "            best_cv = clf\n",
    "            best_ros = ros\n",
    "            best_scaler = scaler\n",
    "            best_selector = selector\n",
    "            best_score_seen=clf.best_score_\n",
    "        print(params, clf.best_estimator_, clf.best_score_)\n",
    "    return best_ros, best_scaler, best_selector, best_cv"
   ]
  },
  {
   "cell_type": "code",
   "execution_count": 14,
   "metadata": {
    "scrolled": true
   },
   "outputs": [
    {
     "data": {
      "application/vnd.jupyter.widget-view+json": {
       "model_id": "b60910b1e1c44ba795059b6de46d8197",
       "version_major": 2,
       "version_minor": 0
      },
      "text/plain": [
       "HBox(children=(FloatProgress(value=0.0, max=30.0), HTML(value='')))"
      ]
     },
     "metadata": {},
     "output_type": "display_data"
    },
    {
     "name": "stdout",
     "output_type": "stream",
     "text": [
      "(0.5, 30) Pipeline(steps=[('classifier', RandomForestClassifier(bootstrap=False))]) 0.8809898754003956\n",
      "(0.5, 40) Pipeline(steps=[('classifier', RandomForestClassifier(bootstrap=False))]) 0.8618856514499909\n",
      "(0.5, 50) Pipeline(steps=[('classifier', RandomForestClassifier(bootstrap=False))]) 0.8812121436678716\n",
      "(0.5, 60) Pipeline(steps=[('classifier', RandomForestClassifier(bootstrap=False))]) 0.8650131288248153\n",
      "(0.5, 70) Pipeline(steps=[('classifier', RandomForestClassifier(bootstrap=False))]) 0.8628159260088168\n",
      "(0.6, 30) Pipeline(steps=[('classifier',\n",
      "                 RandomForestClassifier(bootstrap=False, max_depth=10))]) 0.8226342417966274\n",
      "(0.6, 40) Pipeline(steps=[('classifier', RandomForestClassifier(bootstrap=False))]) 0.8687150233293807\n",
      "(0.6, 50) Pipeline(steps=[('classifier', RandomForestClassifier(bootstrap=False))]) 0.8866923923068851\n",
      "(0.6, 60) Pipeline(steps=[('classifier', RandomForestClassifier())]) 0.8206107705425343\n",
      "(0.6, 70) Pipeline(steps=[('classifier', RandomForestClassifier(bootstrap=False))]) 0.8824050954056647\n",
      "(0.7, 30) Pipeline(steps=[('classifier', RandomForestClassifier(bootstrap=False))]) 0.8759433582206256\n",
      "(0.7, 40) Pipeline(steps=[('classifier', RandomForestClassifier(bootstrap=False))]) 0.8723934532163586\n",
      "(0.7, 50) Pipeline(steps=[('classifier', RandomForestClassifier(bootstrap=False))]) 0.8603080676302076\n",
      "(0.7, 60) Pipeline(steps=[('classifier', RandomForestClassifier())]) 0.8088115568851653\n",
      "(0.7, 70) Pipeline(steps=[('classifier', RandomForestClassifier(bootstrap=False))]) 0.8010112615234052\n",
      "(0.8, 30) Pipeline(steps=[('classifier', RandomForestClassifier(bootstrap=False))]) 0.8594800737510226\n",
      "(0.8, 40) Pipeline(steps=[('classifier', RandomForestClassifier(bootstrap=False))]) 0.8802425376248056\n",
      "(0.8, 50) Pipeline(steps=[('classifier', RandomForestClassifier(bootstrap=False))]) 0.8603581031777153\n",
      "(0.8, 60) Pipeline(steps=[('classifier', RandomForestClassifier(bootstrap=False))]) 0.8632625409601499\n",
      "(0.8, 70) Pipeline(steps=[('classifier', RandomForestClassifier(bootstrap=False))]) 0.7873669551419937\n",
      "(0.9, 30) Pipeline(steps=[('classifier', RandomForestClassifier(bootstrap=False))]) 0.8541521192419161\n",
      "(0.9, 40) Pipeline(steps=[('classifier', RandomForestClassifier(bootstrap=False))]) 0.8630717484878625\n",
      "(0.9, 50) Pipeline(steps=[('classifier', RandomForestClassifier(bootstrap=False))]) 0.8563051148940044\n",
      "(0.9, 60) Pipeline(steps=[('classifier', RandomForestClassifier(bootstrap=False))]) 0.8540605695509063\n",
      "(0.9, 70) Pipeline(steps=[('classifier', RandomForestClassifier(bootstrap=False))]) 0.8594979550755891\n",
      "(1, 30) Pipeline(steps=[('classifier', RandomForestClassifier(bootstrap=False))]) 0.8243481634851022\n",
      "(1, 40) Pipeline(steps=[('classifier', RandomForestClassifier(bootstrap=False))]) 0.852126311643828\n",
      "(1, 50) Pipeline(steps=[('classifier', RandomForestClassifier(bootstrap=False))]) 0.8708854301032259\n",
      "(1, 60) Pipeline(steps=[('classifier', RandomForestClassifier(bootstrap=False))]) 0.8143214592044377\n",
      "(1, 70) Pipeline(steps=[('classifier', RandomForestClassifier(bootstrap=False))]) 0.8586040048807411\n",
      "\n"
     ]
    }
   ],
   "source": [
    "# Test three different architectures with varying hyper parameters\n",
    "k_ = [30, 40, 50, 60, 70]\n",
    "rat_ = [0.5, 0.6,0.7,0.8,0.9, 1]\n",
    "search_space = [{'classifier': [LogisticRegression(solver='lbfgs')],\n",
    "                     'classifier__C': [0.01, 0.1, 1.0],\n",
    "                     'classifier__penalty': ['l1', 'l2', 'none']},\n",
    "                    {'classifier': [RandomForestClassifier(n_estimators=100)],\n",
    "                     'classifier__max_depth': [5, 10, None],\n",
    "                     'classifier__min_samples_split': [2, 4, 8],\n",
    "                     'classifier__bootstrap': [True, False]},\n",
    "                    {'classifier': [KNeighborsClassifier()],\n",
    "                     'classifier__n_neighbors': [3, 7, 11],\n",
    "                     'classifier__weights': ['uniform', 'distance'],\n",
    "                     'classifier__p': [1, 2],\n",
    "                     'classifier__leaf_size': [15, 30, 100]}]\n",
    "best = customGridSearchCV(X, y, k_, rat_, search_space)"
   ]
  },
  {
   "cell_type": "code",
   "execution_count": 15,
   "metadata": {
    "scrolled": true
   },
   "outputs": [
    {
     "data": {
      "text/plain": [
       "0.8866923923068851"
      ]
     },
     "execution_count": 15,
     "metadata": {},
     "output_type": "execute_result"
    }
   ],
   "source": [
    "best[3].best_score_"
   ]
  },
  {
   "cell_type": "code",
   "execution_count": 20,
   "metadata": {},
   "outputs": [
    {
     "data": {
      "image/png": "[encoded data removed]",
      "text/plain": [
       "<Figure size 432x288 with 2 Axes>"
      ]
     },
     "metadata": {
      "needs_background": "light"
     },
     "output_type": "display_data"
    }
   ],
   "source": [
    "import matplotlib.pyplot as plt\n",
    "from sklearn.metrics import plot_confusion_matrix\n",
    "plot_confusion_matrix(best[3].best_estimator_, best[2].transform(best[1].transform(X)), y)  \n",
    "plt.show()"
   ]
  },
  {
   "cell_type": "code",
   "execution_count": 25,
   "metadata": {},
   "outputs": [],
   "source": [
    "feature_names=X.columns\n",
    "mask = best[2].get_support() #list of booleans\n",
    "new_features = [] # The list of your K best features\n",
    "\n",
    "for bool, feature in zip(mask, feature_names):\n",
    "    if bool:\n",
    "        new_features.append(feature)"
   ]
  },
  {
   "cell_type": "code",
   "execution_count": 36,
   "metadata": {},
   "outputs": [
    {
     "data": {
      "text/plain": [
       "<matplotlib.axes._subplots.AxesSubplot at 0x11ee08210>"
      ]
     },
     "execution_count": 36,
     "metadata": {},
     "output_type": "execute_result"
    },
    {
     "data": {
      "image/png": "[encoded data removed]",
      "text/plain": [
       "<Figure size 432x288 with 1 Axes>"
      ]
     },
     "metadata": {
      "needs_background": "light"
     },
     "output_type": "display_data"
    }
   ],
   "source": [
    "feat_importances = pd.Series(best[3].best_estimator_[0].feature_importances_, index=new_features)\n",
    "feat_importances.nlargest(10).plot(kind='barh')"
   ]
  }
 ],
 "metadata": {
  "kernelspec": {
   "display_name": "Python 3",
   "language": "python",
   "name": "python3"
  },
  "language_info": {
   "codemirror_mode": {
    "name": "ipython",
    "version": 3
   },
   "file_extension": ".py",
   "mimetype": "text/x-python",
   "name": "python",
   "nbconvert_exporter": "python",
   "pygments_lexer": "ipython3",
   "version": "3.7.7"
  }
 },
 "nbformat": 4,
 "nbformat_minor": 4
}
